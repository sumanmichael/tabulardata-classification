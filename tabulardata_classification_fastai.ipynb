{
  "nbformat": 4,
  "nbformat_minor": 0,
  "metadata": {
    "colab": {
      "name": "tabulardata-classification-fastai.ipynb",
      "provenance": [],
      "collapsed_sections": [],
      "include_colab_link": true
    },
    "kernelspec": {
      "display_name": "Python 3",
      "name": "python3"
    },
    "accelerator": "GPU"
  },
  "cells": [
    {
      "cell_type": "markdown",
      "metadata": {
        "id": "view-in-github",
        "colab_type": "text"
      },
      "source": [
        "<a href=\"https://colab.research.google.com/github/sumanmichael/tabulardata-classification-deeplearning/blob/main/tabulardata_classification_fastai.ipynb\" target=\"_parent\"><img src=\"https://colab.research.google.com/assets/colab-badge.svg\" alt=\"Open In Colab\"/></a>"
      ]
    },
    {
      "cell_type": "code",
      "metadata": {
        "colab": {
          "base_uri": "https://localhost:8080/"
        },
        "id": "tb6HRUuiFveA",
        "outputId": "aff21656-b613-4f2e-f347-9de501476f61"
      },
      "source": [
        "!pip install -Uqq fastbook\n",
        "import fastbook\n",
        "fastbook.setup_book()"
      ],
      "execution_count": null,
      "outputs": [
        {
          "output_type": "stream",
          "text": [
            "\u001b[K     |████████████████████████████████| 727kB 7.6MB/s \n",
            "\u001b[K     |████████████████████████████████| 51kB 7.8MB/s \n",
            "\u001b[K     |████████████████████████████████| 194kB 14.5MB/s \n",
            "\u001b[K     |████████████████████████████████| 1.1MB 20.2MB/s \n",
            "\u001b[K     |████████████████████████████████| 61kB 8.2MB/s \n",
            "\u001b[?25hMounted at /content/gdrive\n"
          ],
          "name": "stdout"
        }
      ]
    },
    {
      "cell_type": "code",
      "metadata": {
        "id": "xbGAuIBniAIo"
      },
      "source": [
        "import numpy as np\n",
        "import warnings\n",
        "warnings.filterwarnings(\"ignore\")\n",
        "import pandas as pd\n",
        "import matplotlib.pyplot as plt\n",
        "import seaborn as sns    \n",
        "  "
      ],
      "execution_count": null,
      "outputs": []
    },
    {
      "cell_type": "code",
      "metadata": {
        "colab": {
          "base_uri": "https://localhost:8080/"
        },
        "id": "OiLD3b7oES2D",
        "outputId": "fa2f006d-16fd-43ff-843e-4a849b0214c2"
      },
      "source": [
        "!wget \"https://dphi.s3.ap-south-1.amazonaws.com/dataset/train_age_dataset.csv\""
      ],
      "execution_count": null,
      "outputs": [
        {
          "output_type": "stream",
          "text": [
            "--2020-12-06 08:55:18--  https://dphi.s3.ap-south-1.amazonaws.com/dataset/train_age_dataset.csv\n",
            "Resolving dphi.s3.ap-south-1.amazonaws.com (dphi.s3.ap-south-1.amazonaws.com)... 52.219.62.95\n",
            "Connecting to dphi.s3.ap-south-1.amazonaws.com (dphi.s3.ap-south-1.amazonaws.com)|52.219.62.95|:443... connected.\n",
            "HTTP request sent, awaiting response... 200 OK\n",
            "Length: 72490889 (69M) [text/csv]\n",
            "Saving to: ‘train_age_dataset.csv’\n",
            "\n",
            "train_age_dataset.c 100%[===================>]  69.13M  12.3MB/s    in 7.3s    \n",
            "\n",
            "2020-12-06 08:55:26 (9.51 MB/s) - ‘train_age_dataset.csv’ saved [72490889/72490889]\n",
            "\n"
          ],
          "name": "stdout"
        }
      ]
    },
    {
      "cell_type": "code",
      "metadata": {
        "colab": {
          "base_uri": "https://localhost:8080/"
        },
        "id": "4A8BiENuEfzr",
        "outputId": "96073ac9-b928-46b9-c83c-09e9962e325c"
      },
      "source": [
        "df = pd.read_csv(\"./train_age_dataset.csv\")\n",
        "df = df.drop(axis=1, columns=['Unnamed: 0', 'userId'])\n",
        "df.columns"
      ],
      "execution_count": null,
      "outputs": [
        {
          "output_type": "execute_result",
          "data": {
            "text/plain": [
              "Index(['tier', 'gender', 'following_rate', 'followers_avg_age',\n",
              "       'following_avg_age', 'max_repetitive_punc',\n",
              "       'num_of_hashtags_per_action', 'emoji_count_per_action',\n",
              "       'punctuations_per_action', 'number_of_words_per_action',\n",
              "       'avgCompletion', 'avgTimeSpent', 'avgDuration', 'avgComments',\n",
              "       'creations', 'content_views', 'num_of_comments',\n",
              "       'weekends_trails_watched_per_day', 'weekdays_trails_watched_per_day',\n",
              "       'slot1_trails_watched_per_day', 'slot2_trails_watched_per_day',\n",
              "       'slot3_trails_watched_per_day', 'slot4_trails_watched_per_day', 'avgt2',\n",
              "       'age_group'],\n",
              "      dtype='object')"
            ]
          },
          "metadata": {
            "tags": []
          },
          "execution_count": 4
        }
      ]
    },
    {
      "cell_type": "code",
      "metadata": {
        "id": "_DV-UH8MDJSF"
      },
      "source": [
        "from fastbook import * \n",
        "from fastai.tabular.all import *\n",
        "\n",
        "cont_columns = ['following_rate', 'followers_avg_age',\n",
        "       'following_avg_age', 'max_repetitive_punc',\n",
        "       'num_of_hashtags_per_action', 'emoji_count_per_action',\n",
        "       'punctuations_per_action', 'number_of_words_per_action',\n",
        "       'avgCompletion', 'avgTimeSpent', 'avgDuration', 'avgComments',\n",
        "       'creations', 'content_views', 'num_of_comments',\n",
        "       'weekends_trails_watched_per_day', 'weekdays_trails_watched_per_day',\n",
        "       'slot1_trails_watched_per_day', 'slot2_trails_watched_per_day',\n",
        "       'slot3_trails_watched_per_day', 'slot4_trails_watched_per_day', 'avgt2']\n",
        "\n",
        "cat_columns = ['tier', 'gender']\n",
        "\n",
        "dls = TabularDataLoaders.from_csv('train_age_dataset.csv', y_names=\"age_group\",\n",
        "                                    y_block=CategoryBlock,\n",
        "                                    cat_names = cat_columns,\n",
        "                                    cont_names = cont_columns,\n",
        "                                    procs = [Categorify],\n",
        "                                #   bs=128,\n",
        "                                  )"
      ],
      "execution_count": null,
      "outputs": []
    },
    {
      "cell_type": "code",
      "metadata": {
        "colab": {
          "base_uri": "https://localhost:8080/"
        },
        "id": "ldjHiG3ERhCJ",
        "outputId": "f5c3c688-3bc0-4af6-f42e-f21855689ca8"
      },
      "source": [
        "config = tabular_config(ps=0.1,)\n",
        "\n",
        "learn = tabular_learner(dls,\n",
        "                        # config=config,\n",
        "                        # layers=[50,50,50,50],\n",
        "                        metrics=[F1Score(average=\"weighted\")])\n",
        "learn.model"
      ],
      "execution_count": null,
      "outputs": [
        {
          "output_type": "execute_result",
          "data": {
            "text/plain": [
              "TabularModel(\n",
              "  (embeds): ModuleList(\n",
              "    (0): Embedding(4, 3)\n",
              "    (1): Embedding(3, 3)\n",
              "  )\n",
              "  (emb_drop): Dropout(p=0.0, inplace=False)\n",
              "  (bn_cont): BatchNorm1d(22, eps=1e-05, momentum=0.1, affine=True, track_running_stats=True)\n",
              "  (layers): Sequential(\n",
              "    (0): LinBnDrop(\n",
              "      (0): BatchNorm1d(28, eps=1e-05, momentum=0.1, affine=True, track_running_stats=True)\n",
              "      (1): Linear(in_features=28, out_features=200, bias=False)\n",
              "      (2): ReLU(inplace=True)\n",
              "    )\n",
              "    (1): LinBnDrop(\n",
              "      (0): BatchNorm1d(200, eps=1e-05, momentum=0.1, affine=True, track_running_stats=True)\n",
              "      (1): Linear(in_features=200, out_features=100, bias=False)\n",
              "      (2): ReLU(inplace=True)\n",
              "    )\n",
              "    (2): LinBnDrop(\n",
              "      (0): Linear(in_features=100, out_features=4, bias=True)\n",
              "    )\n",
              "  )\n",
              ")"
            ]
          },
          "metadata": {
            "tags": []
          },
          "execution_count": 63
        }
      ]
    },
    {
      "cell_type": "code",
      "metadata": {
        "colab": {
          "base_uri": "https://localhost:8080/",
          "height": 301
        },
        "id": "UbPtahIsKU-9",
        "outputId": "f66aaf0d-3fc9-42a7-fd3b-dce4a32823de"
      },
      "source": [
        "learn.lr_find()"
      ],
      "execution_count": null,
      "outputs": [
        {
          "output_type": "display_data",
          "data": {
            "text/html": [
              ""
            ],
            "text/plain": [
              "<IPython.core.display.HTML object>"
            ]
          },
          "metadata": {
            "tags": []
          }
        },
        {
          "output_type": "execute_result",
          "data": {
            "text/plain": [
              "SuggestedLRs(lr_min=0.025118863582611083, lr_steep=0.005248074419796467)"
            ]
          },
          "metadata": {
            "tags": []
          },
          "execution_count": 64
        },
        {
          "output_type": "display_data",
          "data": {
            "image/png": "[encoded data removed]",
            "text/plain": [
              "<Figure size 432x288 with 1 Axes>"
            ]
          },
          "metadata": {
            "tags": [],
            "needs_background": "light"
          }
        }
      ]
    },
    {
      "cell_type": "code",
      "metadata": {
        "colab": {
          "base_uri": "https://localhost:8080/",
          "height": 980
        },
        "id": "6RttLBhHLf3_",
        "outputId": "5aa54313-22e2-4d46-c120-e0a6e5aa0148"
      },
      "source": [
        "learn.fit_one_cycle(50, 0.005)\n",
        "learn.recorder.plot_loss()"
      ],
      "execution_count": null,
      "outputs": [
        {
          "output_type": "display_data",
          "data": {
            "text/html": [
              "\n",
              "    <div>\n",
              "        <style>\n",
              "            /* Turns off some styling */\n",
              "            progress {\n",
              "                /* gets rid of default border in Firefox and Opera. */\n",
              "                border: none;\n",
              "                /* Needs to be in here for Safari polyfill so background images work as expected. */\n",
              "                background-size: auto;\n",
              "            }\n",
              "            .progress-bar-interrupted, .progress-bar-interrupted::-webkit-progress-bar {\n",
              "                background: #F44336;\n",
              "            }\n",
              "        </style>\n",
              "      <progress value='28' class='' max='50' style='width:300px; height:20px; vertical-align: middle;'></progress>\n",
              "      56.00% [28/50 35:05<27:34]\n",
              "    </div>\n",
              "    \n",
              "<table border=\"1\" class=\"dataframe\">\n",
              "  <thead>\n",
              "    <tr style=\"text-align: left;\">\n",
              "      <th>epoch</th>\n",
              "      <th>train_loss</th>\n",
              "      <th>valid_loss</th>\n",
              "      <th>f1_score</th>\n",
              "      <th>time</th>\n",
              "    </tr>\n",
              "  </thead>\n",
              "  <tbody>\n",
              "    <tr>\n",
              "      <td>0</td>\n",
              "      <td>0.664091</td>\n",
              "      <td>1.106459</td>\n",
              "      <td>0.644363</td>\n",
              "      <td>01:15</td>\n",
              "    </tr>\n",
              "    <tr>\n",
              "      <td>1</td>\n",
              "      <td>0.663754</td>\n",
              "      <td>1.387534</td>\n",
              "      <td>0.412090</td>\n",
              "      <td>01:15</td>\n",
              "    </tr>\n",
              "    <tr>\n",
              "      <td>2</td>\n",
              "      <td>0.654172</td>\n",
              "      <td>1.559143</td>\n",
              "      <td>0.234854</td>\n",
              "      <td>01:15</td>\n",
              "    </tr>\n",
              "    <tr>\n",
              "      <td>3</td>\n",
              "      <td>0.664508</td>\n",
              "      <td>1.666531</td>\n",
              "      <td>0.383822</td>\n",
              "      <td>01:15</td>\n",
              "    </tr>\n",
              "    <tr>\n",
              "      <td>4</td>\n",
              "      <td>0.629640</td>\n",
              "      <td>1.800709</td>\n",
              "      <td>0.366972</td>\n",
              "      <td>01:15</td>\n",
              "    </tr>\n",
              "    <tr>\n",
              "      <td>5</td>\n",
              "      <td>0.641031</td>\n",
              "      <td>1.834711</td>\n",
              "      <td>0.353671</td>\n",
              "      <td>01:15</td>\n",
              "    </tr>\n",
              "    <tr>\n",
              "      <td>6</td>\n",
              "      <td>0.648213</td>\n",
              "      <td>2.525837</td>\n",
              "      <td>0.322676</td>\n",
              "      <td>01:16</td>\n",
              "    </tr>\n",
              "    <tr>\n",
              "      <td>7</td>\n",
              "      <td>0.647024</td>\n",
              "      <td>2.298432</td>\n",
              "      <td>0.375832</td>\n",
              "      <td>01:15</td>\n",
              "    </tr>\n",
              "    <tr>\n",
              "      <td>8</td>\n",
              "      <td>0.655525</td>\n",
              "      <td>1.808150</td>\n",
              "      <td>0.313464</td>\n",
              "      <td>01:16</td>\n",
              "    </tr>\n",
              "    <tr>\n",
              "      <td>9</td>\n",
              "      <td>0.660353</td>\n",
              "      <td>2.327200</td>\n",
              "      <td>0.251531</td>\n",
              "      <td>01:15</td>\n",
              "    </tr>\n",
              "    <tr>\n",
              "      <td>10</td>\n",
              "      <td>0.663238</td>\n",
              "      <td>1.857391</td>\n",
              "      <td>0.270010</td>\n",
              "      <td>01:14</td>\n",
              "    </tr>\n",
              "    <tr>\n",
              "      <td>11</td>\n",
              "      <td>0.652740</td>\n",
              "      <td>1.804334</td>\n",
              "      <td>0.136241</td>\n",
              "      <td>01:12</td>\n",
              "    </tr>\n",
              "    <tr>\n",
              "      <td>12</td>\n",
              "      <td>0.647673</td>\n",
              "      <td>2.225037</td>\n",
              "      <td>0.242163</td>\n",
              "      <td>01:13</td>\n",
              "    </tr>\n",
              "    <tr>\n",
              "      <td>13</td>\n",
              "      <td>0.637038</td>\n",
              "      <td>4.090645</td>\n",
              "      <td>0.128663</td>\n",
              "      <td>01:13</td>\n",
              "    </tr>\n",
              "    <tr>\n",
              "      <td>14</td>\n",
              "      <td>0.663002</td>\n",
              "      <td>3.197488</td>\n",
              "      <td>0.322598</td>\n",
              "      <td>01:13</td>\n",
              "    </tr>\n",
              "    <tr>\n",
              "      <td>15</td>\n",
              "      <td>0.637947</td>\n",
              "      <td>18.064043</td>\n",
              "      <td>0.315608</td>\n",
              "      <td>01:16</td>\n",
              "    </tr>\n",
              "    <tr>\n",
              "      <td>16</td>\n",
              "      <td>0.641007</td>\n",
              "      <td>3.847192</td>\n",
              "      <td>0.354098</td>\n",
              "      <td>01:16</td>\n",
              "    </tr>\n",
              "    <tr>\n",
              "      <td>17</td>\n",
              "      <td>0.646515</td>\n",
              "      <td>2.487929</td>\n",
              "      <td>0.396383</td>\n",
              "      <td>01:16</td>\n",
              "    </tr>\n",
              "    <tr>\n",
              "      <td>18</td>\n",
              "      <td>0.624980</td>\n",
              "      <td>2.702693</td>\n",
              "      <td>0.237704</td>\n",
              "      <td>01:16</td>\n",
              "    </tr>\n",
              "    <tr>\n",
              "      <td>19</td>\n",
              "      <td>0.650268</td>\n",
              "      <td>2.315794</td>\n",
              "      <td>0.344598</td>\n",
              "      <td>01:13</td>\n",
              "    </tr>\n",
              "    <tr>\n",
              "      <td>20</td>\n",
              "      <td>0.651523</td>\n",
              "      <td>2.022183</td>\n",
              "      <td>0.168365</td>\n",
              "      <td>01:15</td>\n",
              "    </tr>\n",
              "    <tr>\n",
              "      <td>21</td>\n",
              "      <td>0.643141</td>\n",
              "      <td>1.955065</td>\n",
              "      <td>0.257019</td>\n",
              "      <td>01:15</td>\n",
              "    </tr>\n",
              "    <tr>\n",
              "      <td>22</td>\n",
              "      <td>0.653894</td>\n",
              "      <td>1.781547</td>\n",
              "      <td>0.296159</td>\n",
              "      <td>01:15</td>\n",
              "    </tr>\n",
              "    <tr>\n",
              "      <td>23</td>\n",
              "      <td>0.650115</td>\n",
              "      <td>1.977283</td>\n",
              "      <td>0.354303</td>\n",
              "      <td>01:15</td>\n",
              "    </tr>\n",
              "    <tr>\n",
              "      <td>24</td>\n",
              "      <td>0.655918</td>\n",
              "      <td>1.687379</td>\n",
              "      <td>0.328128</td>\n",
              "      <td>01:16</td>\n",
              "    </tr>\n",
              "    <tr>\n",
              "      <td>25</td>\n",
              "      <td>0.648999</td>\n",
              "      <td>5.042338</td>\n",
              "      <td>0.218039</td>\n",
              "      <td>01:15</td>\n",
              "    </tr>\n",
              "    <tr>\n",
              "      <td>26</td>\n",
              "      <td>0.635415</td>\n",
              "      <td>2.004778</td>\n",
              "      <td>0.159252</td>\n",
              "      <td>01:14</td>\n",
              "    </tr>\n",
              "    <tr>\n",
              "      <td>27</td>\n",
              "      <td>0.644501</td>\n",
              "      <td>4.921353</td>\n",
              "      <td>0.250148</td>\n",
              "      <td>01:13</td>\n",
              "    </tr>\n",
              "  </tbody>\n",
              "</table><p>\n",
              "\n",
              "    <div>\n",
              "        <style>\n",
              "            /* Turns off some styling */\n",
              "            progress {\n",
              "                /* gets rid of default border in Firefox and Opera. */\n",
              "                border: none;\n",
              "                /* Needs to be in here for Safari polyfill so background images work as expected. */\n",
              "                background-size: auto;\n",
              "            }\n",
              "            .progress-bar-interrupted, .progress-bar-interrupted::-webkit-progress-bar {\n",
              "                background: #F44336;\n",
              "            }\n",
              "        </style>\n",
              "      <progress value='2308' class='' max='6110' style='width:300px; height:20px; vertical-align: middle;'></progress>\n",
              "      37.77% [2308/6110 00:25<00:41 0.6444]\n",
              "    </div>\n",
              "    "
            ],
            "text/plain": [
              "<IPython.core.display.HTML object>"
            ]
          },
          "metadata": {
            "tags": []
          }
        },
        {
          "output_type": "stream",
          "text": [
            "Buffered data was truncated after reaching the output size limit."
          ],
          "name": "stdout"
        }
      ]
    }
  ]
}